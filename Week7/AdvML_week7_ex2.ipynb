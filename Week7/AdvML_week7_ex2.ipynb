{
 "cells": [
  {
   "cell_type": "code",
   "execution_count": 1,
   "metadata": {},
   "outputs": [
    {
     "name": "stderr",
     "output_type": "stream",
     "text": [
      "Using TensorFlow backend.\n"
     ]
    }
   ],
   "source": [
    "## Advanced Course in Machine Learning\n",
    "## Week 7\n",
    "## Exercise 2 / Neural networks for sequences\n",
    "\n",
    "import numpy as np\n",
    "import scipy\n",
    "import pandas as pd\n",
    "import seaborn as sns\n",
    "import matplotlib.pyplot as plt\n",
    "from numpy import linalg as LA\n",
    "from sklearn.preprocessing import StandardScaler\n",
    "\n",
    "from sklearn.linear_model import LogisticRegression\n",
    "\n",
    "import tensorflow as tf\n",
    "from keras.models import Sequential\n",
    "from keras.layers import Dense, Dropout, Activation, Flatten, Reshape, Embedding\n",
    "from keras.layers import Conv1D, MaxPooling1D, GlobalAveragePooling1D\n",
    "from keras.layers import LSTM\n",
    "\n",
    "import keras\n"
   ]
  },
  {
   "cell_type": "code",
   "execution_count": 2,
   "metadata": {},
   "outputs": [],
   "source": [
    "# Read in the training data\n",
    "# Path /home/mkotola/AdvancedML/Week7\n",
    "dataFile = \"seqtrain.csv\"\n",
    "data = pd.read_csv(dataFile, sep=\",\", header=None)\n",
    "# N = 4000, d = 31"
   ]
  },
  {
   "cell_type": "code",
   "execution_count": 3,
   "metadata": {},
   "outputs": [],
   "source": [
    "# Read in the validation data\n",
    "validDataFile = \"seqvalid.csv\"\n",
    "validData = pd.read_csv(validDataFile, sep=\",\", header=None)"
   ]
  },
  {
   "cell_type": "code",
   "execution_count": 4,
   "metadata": {},
   "outputs": [],
   "source": [
    "y = data.iloc[:,29:33]\n",
    "X = data.iloc[:,0:29]\n",
    "y_valid = validData.iloc[:,29:33]\n",
    "X_valid = validData.iloc[:,0:29]"
   ]
  },
  {
   "cell_type": "code",
   "execution_count": 5,
   "metadata": {},
   "outputs": [],
   "source": [
    "#print(X.mean(axis=0))\n",
    "#print(X.std(axis=0))"
   ]
  },
  {
   "cell_type": "code",
   "execution_count": 6,
   "metadata": {},
   "outputs": [],
   "source": [
    "# Scale the test data\n",
    "sc = StandardScaler()\n",
    "X = sc.fit_transform(X)\n",
    "X_valid = sc.transform (X_valid)"
   ]
  },
  {
   "cell_type": "code",
   "execution_count": 7,
   "metadata": {},
   "outputs": [],
   "source": [
    "#print(X.mean(axis=0))\n",
    "#print(X.std(axis=0))"
   ]
  },
  {
   "cell_type": "code",
   "execution_count": 8,
   "metadata": {},
   "outputs": [],
   "source": [
    "#print(y)"
   ]
  },
  {
   "cell_type": "code",
   "execution_count": 9,
   "metadata": {},
   "outputs": [],
   "source": [
    "def codeYClassr(orig):  \n",
    "    y = orig.copy()\n",
    "    y['yclass'] = np.where(y.iloc[:,0]==1, 29, 0)\n",
    "    y['yclass'] = np.where(y.iloc[:,1]==1, 30, y.iloc[:,4])\n",
    "    y['yclass'] = np.where(y.iloc[:,2]==1, 31, y.iloc[:,4])\n",
    "    y['yclass'] = np.where(y.iloc[:,3]==1, 32, y.iloc[:,4])\n",
    "    return y"
   ]
  },
  {
   "cell_type": "code",
   "execution_count": 10,
   "metadata": {},
   "outputs": [],
   "source": [
    "y_cl = codeYClassr(y)\n",
    "y_val_cl = codeYClassr(y_valid)\n",
    "y_train = y_cl['yclass']\n",
    "y_validate = y_val_cl['yclass']"
   ]
  },
  {
   "cell_type": "code",
   "execution_count": 12,
   "metadata": {},
   "outputs": [],
   "source": [
    "# Logistic regression\n",
    "clf = LogisticRegression(random_state=0, solver='lbfgs', multi_class='multinomial').fit(X, y_train)"
   ]
  },
  {
   "cell_type": "code",
   "execution_count": 13,
   "metadata": {},
   "outputs": [],
   "source": [
    "pred = clf.predict(X_valid)"
   ]
  },
  {
   "cell_type": "code",
   "execution_count": 15,
   "metadata": {},
   "outputs": [
    {
     "name": "stdout",
     "output_type": "stream",
     "text": [
      "0.24\n"
     ]
    }
   ],
   "source": [
    "result = y_validate.eq(pred)\n",
    "print(np.sum(result)/result.size)"
   ]
  },
  {
   "cell_type": "code",
   "execution_count": 16,
   "metadata": {},
   "outputs": [],
   "source": [
    "# Logistic regression is able to classify the validation instances only 24 % correctly - which is worse than random\n",
    "# guessing! Random guessing would result in 25 % correct labeling with 4 classes."
   ]
  },
  {
   "cell_type": "code",
   "execution_count": 18,
   "metadata": {},
   "outputs": [
    {
     "name": "stdout",
     "output_type": "stream",
     "text": [
      "WARNING:tensorflow:From /home/mkotola/anaconda3/envs/py37/lib/python3.7/site-packages/tensorflow/python/framework/op_def_library.py:263: colocate_with (from tensorflow.python.framework.ops) is deprecated and will be removed in a future version.\n",
      "Instructions for updating:\n",
      "Colocations handled automatically by placer.\n"
     ]
    }
   ],
   "source": [
    "# Keras model / MLP\n",
    "model = Sequential()\n",
    "model.add(Dense(units=64, activation='relu', input_dim=29))\n",
    "model.add(Dense(units=64, activation='relu', input_dim=64))\n",
    "model.add(Dense(units=4, activation='softmax'))"
   ]
  },
  {
   "cell_type": "code",
   "execution_count": 71,
   "metadata": {},
   "outputs": [
    {
     "name": "stdout",
     "output_type": "stream",
     "text": [
      "_________________________________________________________________\n",
      "Layer (type)                 Output Shape              Param #   \n",
      "=================================================================\n",
      "dense_1 (Dense)              (None, 64)                1920      \n",
      "_________________________________________________________________\n",
      "dense_2 (Dense)              (None, 64)                4160      \n",
      "_________________________________________________________________\n",
      "dense_3 (Dense)              (None, 4)                 260       \n",
      "=================================================================\n",
      "Total params: 6,340\n",
      "Trainable params: 6,340\n",
      "Non-trainable params: 0\n",
      "_________________________________________________________________\n"
     ]
    }
   ],
   "source": [
    "model.summary()"
   ]
  },
  {
   "cell_type": "code",
   "execution_count": 19,
   "metadata": {},
   "outputs": [],
   "source": [
    "model.compile(loss='categorical_crossentropy',\n",
    "              optimizer='sgd',\n",
    "              metrics=['accuracy'])\n",
    "\n",
    "#model.compile(loss=keras.losses.categorical_crossentropy, \n",
    "#optimizer=keras.optimizers.SGD(lr=0.01, momentum=0.9, nesterov=True))"
   ]
  },
  {
   "cell_type": "code",
   "execution_count": 20,
   "metadata": {},
   "outputs": [
    {
     "name": "stdout",
     "output_type": "stream",
     "text": [
      "WARNING:tensorflow:From /home/mkotola/anaconda3/envs/py37/lib/python3.7/site-packages/tensorflow/python/ops/math_ops.py:3066: to_int32 (from tensorflow.python.ops.math_ops) is deprecated and will be removed in a future version.\n",
      "Instructions for updating:\n",
      "Use tf.cast instead.\n",
      "Epoch 1/5\n",
      "4000/4000 [==============================] - 0s 63us/step - loss: 1.3832 - acc: 0.2978\n",
      "Epoch 2/5\n",
      "4000/4000 [==============================] - 0s 29us/step - loss: 1.3240 - acc: 0.3465\n",
      "Epoch 3/5\n",
      "4000/4000 [==============================] - 0s 29us/step - loss: 1.2744 - acc: 0.3995\n",
      "Epoch 4/5\n",
      "4000/4000 [==============================] - 0s 29us/step - loss: 1.2256 - acc: 0.4357\n",
      "Epoch 5/5\n",
      "4000/4000 [==============================] - 0s 28us/step - loss: 1.1776 - acc: 0.4585\n"
     ]
    },
    {
     "data": {
      "text/plain": [
       "<keras.callbacks.History at 0x7f69f6584518>"
      ]
     },
     "execution_count": 20,
     "metadata": {},
     "output_type": "execute_result"
    }
   ],
   "source": [
    "model.fit(X, y, epochs=5, batch_size=32)"
   ]
  },
  {
   "cell_type": "code",
   "execution_count": 21,
   "metadata": {},
   "outputs": [
    {
     "name": "stdout",
     "output_type": "stream",
     "text": [
      "1000/1000 [==============================] - 0s 34us/step\n"
     ]
    }
   ],
   "source": [
    "loss_and_metrics = model.evaluate(X_valid, y_valid, batch_size=128)"
   ]
  },
  {
   "cell_type": "code",
   "execution_count": 22,
   "metadata": {},
   "outputs": [
    {
     "name": "stdout",
     "output_type": "stream",
     "text": [
      "[1.1783238515853882, 0.4220000014305115]\n"
     ]
    }
   ],
   "source": [
    "print(loss_and_metrics)"
   ]
  },
  {
   "cell_type": "code",
   "execution_count": 23,
   "metadata": {},
   "outputs": [
    {
     "name": "stdout",
     "output_type": "stream",
     "text": [
      "WARNING:tensorflow:From /home/mkotola/anaconda3/envs/py37/lib/python3.7/site-packages/keras/backend/tensorflow_backend.py:3445: calling dropout (from tensorflow.python.ops.nn_ops) with keep_prob is deprecated and will be removed in a future version.\n",
      "Instructions for updating:\n",
      "Please use `rate` instead of `keep_prob`. Rate should be set to `rate = 1 - keep_prob`.\n"
     ]
    }
   ],
   "source": [
    "# Keras model / CNN A\n",
    "model_m = Sequential()\n",
    "model_m.add(Conv1D(100, 3, activation='relu', input_shape=(29, 1)))\n",
    "model_m.add(Conv1D(100, 3, activation='relu'))\n",
    "model_m.add(MaxPooling1D(3))\n",
    "model_m.add(Conv1D(160, 3, activation='relu'))\n",
    "model_m.add(Conv1D(160, 3, activation='relu'))\n",
    "model_m.add(GlobalAveragePooling1D())\n",
    "model_m.add(Dropout(0.5))\n",
    "model_m.add(Dense(4, activation='softmax'))"
   ]
  },
  {
   "cell_type": "code",
   "execution_count": 24,
   "metadata": {},
   "outputs": [
    {
     "name": "stdout",
     "output_type": "stream",
     "text": [
      "_________________________________________________________________\n",
      "Layer (type)                 Output Shape              Param #   \n",
      "=================================================================\n",
      "conv1d_1 (Conv1D)            (None, 27, 100)           400       \n",
      "_________________________________________________________________\n",
      "conv1d_2 (Conv1D)            (None, 25, 100)           30100     \n",
      "_________________________________________________________________\n",
      "max_pooling1d_1 (MaxPooling1 (None, 8, 100)            0         \n",
      "_________________________________________________________________\n",
      "conv1d_3 (Conv1D)            (None, 6, 160)            48160     \n",
      "_________________________________________________________________\n",
      "conv1d_4 (Conv1D)            (None, 4, 160)            76960     \n",
      "_________________________________________________________________\n",
      "global_average_pooling1d_1 ( (None, 160)               0         \n",
      "_________________________________________________________________\n",
      "dropout_1 (Dropout)          (None, 160)               0         \n",
      "_________________________________________________________________\n",
      "dense_4 (Dense)              (None, 4)                 644       \n",
      "=================================================================\n",
      "Total params: 156,264\n",
      "Trainable params: 156,264\n",
      "Non-trainable params: 0\n",
      "_________________________________________________________________\n",
      "None\n"
     ]
    }
   ],
   "source": [
    "print(model_m.summary())"
   ]
  },
  {
   "cell_type": "code",
   "execution_count": 25,
   "metadata": {},
   "outputs": [],
   "source": [
    "# initiate RMSprop optimizer\n",
    "opt = keras.optimizers.rmsprop(lr=0.0001, decay=1e-6)\n",
    "\n",
    "# Let's train the model using RMSprop\n",
    "model_m.compile(loss='categorical_crossentropy', optimizer=opt, metrics=['accuracy'])"
   ]
  },
  {
   "cell_type": "code",
   "execution_count": 26,
   "metadata": {},
   "outputs": [],
   "source": [
    "X_exp = np.expand_dims(X, axis=2)"
   ]
  },
  {
   "cell_type": "code",
   "execution_count": 27,
   "metadata": {},
   "outputs": [],
   "source": [
    "X_valid_exp = np.expand_dims(X_valid, axis=2)"
   ]
  },
  {
   "cell_type": "code",
   "execution_count": 28,
   "metadata": {},
   "outputs": [
    {
     "name": "stdout",
     "output_type": "stream",
     "text": [
      "Epoch 1/20\n",
      "4000/4000 [==============================] - 1s 341us/step - loss: 1.3826 - acc: 0.2787\n",
      "Epoch 2/20\n",
      "4000/4000 [==============================] - 1s 265us/step - loss: 1.3591 - acc: 0.3325\n",
      "Epoch 3/20\n",
      "4000/4000 [==============================] - 1s 278us/step - loss: 1.3077 - acc: 0.3847\n",
      "Epoch 4/20\n",
      "4000/4000 [==============================] - 1s 277us/step - loss: 1.2518 - acc: 0.3965\n",
      "Epoch 5/20\n",
      "4000/4000 [==============================] - 1s 274us/step - loss: 1.2063 - acc: 0.4185\n",
      "Epoch 6/20\n",
      "4000/4000 [==============================] - 1s 272us/step - loss: 1.1764 - acc: 0.4360\n",
      "Epoch 7/20\n",
      "4000/4000 [==============================] - 1s 271us/step - loss: 1.1621 - acc: 0.4417\n",
      "Epoch 8/20\n",
      "4000/4000 [==============================] - 1s 272us/step - loss: 1.1404 - acc: 0.4517\n",
      "Epoch 9/20\n",
      "4000/4000 [==============================] - 1s 271us/step - loss: 1.1279 - acc: 0.4607\n",
      "Epoch 10/20\n",
      "4000/4000 [==============================] - 1s 273us/step - loss: 1.1199 - acc: 0.4605\n",
      "Epoch 11/20\n",
      "4000/4000 [==============================] - 1s 273us/step - loss: 1.1135 - acc: 0.4708\n",
      "Epoch 12/20\n",
      "4000/4000 [==============================] - 1s 352us/step - loss: 1.1018 - acc: 0.4830\n",
      "Epoch 13/20\n",
      "4000/4000 [==============================] - 1s 275us/step - loss: 1.1056 - acc: 0.4773\n",
      "Epoch 14/20\n",
      "4000/4000 [==============================] - 1s 272us/step - loss: 1.0946 - acc: 0.4833\n",
      "Epoch 15/20\n",
      "4000/4000 [==============================] - 1s 285us/step - loss: 1.0848 - acc: 0.5015\n",
      "Epoch 16/20\n",
      "4000/4000 [==============================] - 1s 295us/step - loss: 1.0788 - acc: 0.4990\n",
      "Epoch 17/20\n",
      "4000/4000 [==============================] - 1s 349us/step - loss: 1.0783 - acc: 0.4907\n",
      "Epoch 18/20\n",
      "4000/4000 [==============================] - 1s 291us/step - loss: 1.0821 - acc: 0.4850\n",
      "Epoch 19/20\n",
      "4000/4000 [==============================] - 1s 288us/step - loss: 1.0747 - acc: 0.5007\n",
      "Epoch 20/20\n",
      "4000/4000 [==============================] - 1s 290us/step - loss: 1.0714 - acc: 0.4997\n"
     ]
    },
    {
     "data": {
      "text/plain": [
       "<keras.callbacks.History at 0x7f69f41a46d8>"
      ]
     },
     "execution_count": 28,
     "metadata": {},
     "output_type": "execute_result"
    }
   ],
   "source": [
    "#model.fit(X, y, epochs=5, batch_size=32)\n",
    "#model.fit(X, y,\n",
    "#              batch_size=32,\n",
    "#              epochs=5,\n",
    "#              validation_data=(X_valid, y_valid), shuffle=True)\n",
    "model_m.fit(X_exp, y, batch_size=32, epochs=20)"
   ]
  },
  {
   "cell_type": "code",
   "execution_count": 29,
   "metadata": {},
   "outputs": [
    {
     "name": "stdout",
     "output_type": "stream",
     "text": [
      "1000/1000 [==============================] - 0s 137us/step\n",
      "[1.0624894580841064, 0.5019999985694885]\n"
     ]
    }
   ],
   "source": [
    "loss_and_metrics = model_m.evaluate(X_valid_exp, y_valid, batch_size=128)\n",
    "print(loss_and_metrics)"
   ]
  },
  {
   "cell_type": "code",
   "execution_count": 31,
   "metadata": {},
   "outputs": [],
   "source": [
    "# Keras LSTM\n",
    "model_lstm = Sequential()\n",
    "model_lstm.add(Embedding(1024, output_dim=256))\n",
    "model_lstm.add(LSTM(128))\n",
    "model_lstm.add(Dropout(0.5))\n",
    "model_lstm.add(Dense(4, activation='softmax'))\n",
    "\n",
    "# initiate RMSprop optimizer\n",
    "opt = keras.optimizers.rmsprop(lr=0.0001, decay=1e-6)\n",
    "\n",
    "model_m.compile(loss='categorical_crossentropy', optimizer=opt, metrics=['accuracy'])"
   ]
  },
  {
   "cell_type": "code",
   "execution_count": 66,
   "metadata": {},
   "outputs": [],
   "source": [
    "# Keras LSTM\n",
    "model_l = Sequential()\n",
    "\n",
    "#model_l.add(LSTM(32, input_shape=(29,1)))  # returns a sequence of vectors of dimension 32\n",
    "\n",
    "model_l.add(LSTM(32, return_sequences=True,\n",
    "               input_shape=(29, 1)))  # returns a sequence of vectors of dimension 32\n",
    "model_l.add(LSTM(32, return_sequences=True))  # returns a sequence of vectors of dimension 32\n",
    "model_l.add(LSTM(32))  # return a single vector of dimension 32\n",
    "model_l.add(Dense(4, activation='softmax'))\n",
    "\n",
    "# initiate RMSprop optimizer\n",
    "opt = keras.optimizers.rmsprop(lr=0.0001, decay=1e-6)\n",
    "\n",
    "model_l.compile(loss='categorical_crossentropy', optimizer=opt, metrics=['accuracy'])"
   ]
  },
  {
   "cell_type": "code",
   "execution_count": 67,
   "metadata": {},
   "outputs": [
    {
     "name": "stdout",
     "output_type": "stream",
     "text": [
      "_________________________________________________________________\n",
      "Layer (type)                 Output Shape              Param #   \n",
      "=================================================================\n",
      "lstm_19 (LSTM)               (None, 29, 32)            4352      \n",
      "_________________________________________________________________\n",
      "lstm_20 (LSTM)               (None, 29, 32)            8320      \n",
      "_________________________________________________________________\n",
      "lstm_21 (LSTM)               (None, 32)                8320      \n",
      "_________________________________________________________________\n",
      "dense_20 (Dense)             (None, 4)                 132       \n",
      "=================================================================\n",
      "Total params: 21,124\n",
      "Trainable params: 21,124\n",
      "Non-trainable params: 0\n",
      "_________________________________________________________________\n"
     ]
    }
   ],
   "source": [
    "model_l.summary()"
   ]
  },
  {
   "cell_type": "code",
   "execution_count": 68,
   "metadata": {},
   "outputs": [
    {
     "name": "stdout",
     "output_type": "stream",
     "text": [
      "Epoch 1/10\n",
      "4000/4000 [==============================] - 9s 2ms/step - loss: 1.3860 - acc: 0.2567\n",
      "Epoch 2/10\n",
      "4000/4000 [==============================] - 7s 2ms/step - loss: 1.3841 - acc: 0.2705\n",
      "Epoch 3/10\n",
      "4000/4000 [==============================] - 7s 2ms/step - loss: 1.3710 - acc: 0.2765\n",
      "Epoch 4/10\n",
      "4000/4000 [==============================] - 7s 2ms/step - loss: 1.3153 - acc: 0.3588\n",
      "Epoch 5/10\n",
      "4000/4000 [==============================] - 7s 2ms/step - loss: 1.2431 - acc: 0.4178\n",
      "Epoch 6/10\n",
      "4000/4000 [==============================] - 7s 2ms/step - loss: 1.1929 - acc: 0.4465\n",
      "Epoch 7/10\n",
      "4000/4000 [==============================] - 7s 2ms/step - loss: 1.1641 - acc: 0.4577\n",
      "Epoch 8/10\n",
      "4000/4000 [==============================] - 7s 2ms/step - loss: 1.1384 - acc: 0.4675\n",
      "Epoch 9/10\n",
      "4000/4000 [==============================] - 7s 2ms/step - loss: 1.1154 - acc: 0.4830\n",
      "Epoch 10/10\n",
      "4000/4000 [==============================] - 7s 2ms/step - loss: 1.0952 - acc: 0.4963\n"
     ]
    },
    {
     "data": {
      "text/plain": [
       "<keras.callbacks.History at 0x7f69a1b7fc18>"
      ]
     },
     "execution_count": 68,
     "metadata": {},
     "output_type": "execute_result"
    }
   ],
   "source": [
    "model_l.fit(X_exp, y, batch_size=16, epochs=10)"
   ]
  },
  {
   "cell_type": "code",
   "execution_count": 70,
   "metadata": {},
   "outputs": [
    {
     "name": "stdout",
     "output_type": "stream",
     "text": [
      "1000/1000 [==============================] - 1s 807us/step\n",
      "[1.0967765607833861, 0.479]\n"
     ]
    }
   ],
   "source": [
    "loss_and_metrics = model_l.evaluate(X_valid_exp, y_valid, batch_size=16)\n",
    "print(loss_and_metrics)"
   ]
  }
 ],
 "metadata": {
  "celltoolbar": "Raw Cell Format",
  "kernelspec": {
   "display_name": "Python 3",
   "language": "python",
   "name": "python3"
  },
  "language_info": {
   "codemirror_mode": {
    "name": "ipython",
    "version": 3
   },
   "file_extension": ".py",
   "mimetype": "text/x-python",
   "name": "python",
   "nbconvert_exporter": "python",
   "pygments_lexer": "ipython3",
   "version": "3.7.2"
  }
 },
 "nbformat": 4,
 "nbformat_minor": 2
}
