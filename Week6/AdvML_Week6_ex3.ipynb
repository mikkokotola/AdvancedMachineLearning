{
 "cells": [
  {
   "cell_type": "code",
   "execution_count": 1,
   "metadata": {},
   "outputs": [],
   "source": [
    "## Advanced Course in Machine Learning\n",
    "## Week 6\n",
    "## Exercise 3 / Automatic differentiation checkup\n",
    "\n",
    "import numpy as np\n",
    "import scipy\n",
    "import pandas as pd\n",
    "import seaborn as sns\n",
    "import matplotlib.pyplot as plt\n",
    "import matplotlib.animation as animation\n",
    "from numpy import linalg as LA\n",
    "from sklearn import decomposition\n",
    "from sklearn.preprocessing import StandardScaler\n",
    "from sklearn.metrics import pairwise_distances\n",
    "from sklearn.manifold import TSNE\n",
    "import math\n",
    "import sys\n",
    "\n",
    "import mnist\n",
    "from sklearn.tree import DecisionTreeClassifier\n",
    "from sklearn.model_selection import cross_val_score\n",
    "\n",
    "sns.set_style(\"darkgrid\")"
   ]
  },
  {
   "cell_type": "code",
   "execution_count": 11,
   "metadata": {},
   "outputs": [
    {
     "name": "stdout",
     "output_type": "stream",
     "text": [
      "[5.e-05 0.e+00]\n"
     ]
    }
   ],
   "source": [
    "e = np.array([1,0])\n",
    "print(err*e)"
   ]
  },
  {
   "cell_type": "code",
   "execution_count": 12,
   "metadata": {},
   "outputs": [],
   "source": [
    "def f(x):\n",
    "    x1 = x[0]\n",
    "    x2 = x[1]\n",
    "    return (x1**2)*(math.sin((x1**2)+math.exp(x2)))\n",
    "\n",
    "def findif_x1(x, err):\n",
    "    e = np.array([1,0])\n",
    "    return ((f(np.add(x, err*e)) - f(x))/err)\n",
    "\n",
    "def findif_x2(x, err):\n",
    "    e = np.array([0,1])\n",
    "    return ((f(np.add(x, err*e)) - f(x))/err)   "
   ]
  },
  {
   "cell_type": "code",
   "execution_count": 16,
   "metadata": {},
   "outputs": [
    {
     "name": "stdout",
     "output_type": "stream",
     "text": [
      "0.7004806233301686\n",
      "0.7004806233301686\n"
     ]
    }
   ],
   "source": [
    "err = 0.00005\n",
    "x = np.array([1,2])\n",
    "findif1 = findif_x1(x, err)\n",
    "findif2 = findif_x1(x, err)\n",
    "print(findif1)\n",
    "print(findif2)"
   ]
  },
  {
   "cell_type": "code",
   "execution_count": 17,
   "metadata": {},
   "outputs": [
    {
     "name": "stdout",
     "output_type": "stream",
     "text": [
      "-1.0198101957617316\n",
      "-0.5099050978808658\n"
     ]
    }
   ],
   "source": [
    "x1 = x[0]\n",
    "x2 = x[1]\n",
    "diff_x1 = 2*x1*(x1**2)*math.cos(((x1**2)+math.exp(x2)))\n",
    "diff_x2 = x1*math.cos((x1**2)+math.exp(x2))\n",
    "print(diff_x1)\n",
    "print(diff_x2)"
   ]
  }
 ],
 "metadata": {
  "kernelspec": {
   "display_name": "Python 3",
   "language": "python",
   "name": "python3"
  },
  "language_info": {
   "codemirror_mode": {
    "name": "ipython",
    "version": 3
   },
   "file_extension": ".py",
   "mimetype": "text/x-python",
   "name": "python",
   "nbconvert_exporter": "python",
   "pygments_lexer": "ipython3",
   "version": "3.7.2"
  }
 },
 "nbformat": 4,
 "nbformat_minor": 2
}
